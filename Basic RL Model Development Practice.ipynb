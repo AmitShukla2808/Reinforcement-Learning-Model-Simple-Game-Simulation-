{
 "cells": [
  {
   "cell_type": "markdown",
   "metadata": {},
   "source": [
    "# A Short Game To See How An Agent Learns to Attain A Policy"
   ]
  },
  {
   "cell_type": "code",
   "execution_count": 45,
   "metadata": {},
   "outputs": [],
   "source": [
    "## This is a simple game where a player will itself learn to jump from one state to another. The Dictionary 'MAPS'\n",
    "## gives from which states to which states can a person jump to. The Dictionary 'REWARDS' gives reward for each\n",
    "## state. The Dictionary policy will give us the policy learnt by our player after making 'STEPS' trials. Initial\n",
    "## policy is set to 0 for each state (0 state does not exist) so that our player would update the policy randomly\n",
    "## at first but then over many trials, it will self learn to decide what's best for it. The code below will take \n",
    "## only 1 input : The number of trials or steps you want for it to learn. You can also change the code according\n",
    "## to yourself to create new states(more complex). It shows that with increase in 'STEPS', our agent performs \n",
    "## better everytime. This code will print the policy after every iteration to visualise updates and current score.\n",
    "## At the end it will also show the percentage times the agent went to a negative reward state. You would see that \n",
    "## as you increase 'STEPS', this percentage will go down. YOU CAN COPY THE CODE TO TRY IT OUT."
   ]
  },
  {
   "cell_type": "code",
   "execution_count": 48,
   "metadata": {},
   "outputs": [
    {
     "name": "stdout",
     "output_type": "stream",
     "text": [
      "***  HELLO HUMAN! GAME WILL START SOON.. PLEASE ENTER THE NUMBER OF TRIALS  ***\n",
      "5\n",
      "\n",
      " GAME STARTS\n",
      "\n",
      "Policy Updated !\n",
      "\n",
      "Current Policy : {1: 5, 2: 0, 3: 0, 4: 0, 5: 0, 6: 0} Current Score : -100 \n",
      "\n",
      "Policy Updated !\n",
      "\n",
      "Current Policy : {1: 5, 2: 0, 3: 0, 4: 0, 5: 2, 6: 0} Current Score : -110 \n",
      "\n",
      "Policy Updated !\n",
      "\n",
      "Current Policy : {1: 5, 2: 6, 3: 0, 4: 0, 5: 2, 6: 0} Current Score : -97 \n",
      "\n",
      "Policy Updated !\n",
      "\n",
      "Current Policy : {1: 5, 2: 6, 3: 0, 4: 0, 5: 2, 6: 2} Current Score : 3 \n",
      "\n",
      "Current Policy : {1: 5, 2: 6, 3: 0, 4: 0, 5: 2, 6: 2} Current Score : 16 \n",
      "\n",
      "****************************************************************\n",
      "\n",
      "Game ended after 5 steps with score 16 \n",
      "\n",
      "Percent Of Times when negative reward was encountered 40.0 %\n",
      "\n",
      "Policy Learned After 5 trials : {1: 5, 2: 6, 3: 0, 4: 0, 5: 2, 6: 2} \n",
      "\n",
      "GAME OVER !\n",
      "\n"
     ]
    }
   ],
   "source": [
    "import random\n",
    "from random import *\n",
    "policy = {1:0, 2:0, 3:0, 4:0, 5:0, 6:0}\n",
    "reward = {1:-100, 2:13, 3:-5, 4:20, 5:-10, 6:100}\n",
    "maps = {1:[1,2,5,6], 2:[1,2,5,6], 3:[2,3,4,6], 4:[1,6,4,5],5:[1,2,4,5],6:[3,5,2]}\n",
    "def action(x) :\n",
    "    rand_idx = randint(0,len(maps[x])-1)\n",
    "    return maps[x][rand_idx]\n",
    "def rewards(x) :\n",
    "    return reward[x];\n",
    "def testgame() :\n",
    "    print(\"***  HELLO HUMAN! GAME WILL START SOON.. PLEASE ENTER THE NUMBER OF TRIALS  ***\")\n",
    "    steps = input()\n",
    "    print(\"\\n GAME STARTS\\n\")\n",
    "    steps = int(steps)\n",
    "    steps2 = steps\n",
    "    score = 0\n",
    "    x = randint(1,6)\n",
    "    policycopy = {1:0, 2:0, 3:0, 4:0, 5:0, 6:0}\n",
    "    pos = 0\n",
    "    negs = 0\n",
    "    while(steps>0):\n",
    "        score+=rewards(x)\n",
    "        if(rewards(x)<0):\n",
    "            negs+=1\n",
    "        else:\n",
    "            pos+=1\n",
    "        y = action(x)\n",
    "        if policy[x]==0 :\n",
    "            policy[x] = y\n",
    "        else :\n",
    "            if rewards(y)>rewards(policy[x]):\n",
    "                policy[x] = y\n",
    "        if policy[x]!=policycopy[x] :\n",
    "            print(\"Policy Updated !\\n\")\n",
    "        policycopy[x] = policy[x]\n",
    "        x = policy[x]\n",
    "        steps-=1;\n",
    "        print(\"Current Policy :\",policy,\"Current Score :\",score,\"\\n\")\n",
    "    print(\"****************************************************************\\n\")\n",
    "    print(\"Game ended after\",steps2,\"steps with score\",score,\"\\n\")\n",
    "    print(\"Percent Of Times when negative reward was encountered\",(negs/steps2)*100.0,\"%\\n\")\n",
    "    print(\"Policy Learned After\",steps2,\"trials :\",policy,\"\\n\")\n",
    "    print(\"GAME OVER !\\n\")\n",
    "testgame()"
   ]
  },
  {
   "cell_type": "code",
   "execution_count": null,
   "metadata": {},
   "outputs": [],
   "source": [
    "## THANK YOU"
   ]
  }
 ],
 "metadata": {
  "kernelspec": {
   "display_name": "Python 3",
   "language": "python",
   "name": "python3"
  },
  "language_info": {
   "codemirror_mode": {
    "name": "ipython",
    "version": 3
   },
   "file_extension": ".py",
   "mimetype": "text/x-python",
   "name": "python",
   "nbconvert_exporter": "python",
   "pygments_lexer": "ipython3",
   "version": "3.7.6"
  }
 },
 "nbformat": 4,
 "nbformat_minor": 2
}
